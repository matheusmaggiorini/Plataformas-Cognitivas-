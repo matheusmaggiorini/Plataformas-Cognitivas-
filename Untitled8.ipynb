{
  "nbformat": 4,
  "nbformat_minor": 0,
  "metadata": {
    "colab": {
      "provenance": []
    },
    "kernelspec": {
      "name": "python3",
      "display_name": "Python 3"
    },
    "language_info": {
      "name": "python"
    }
  },
  "cells": [
    {
      "cell_type": "markdown",
      "source": [],
      "metadata": {
        "id": "W0YFflJxMgEV"
      }
    },
    {
      "cell_type": "code",
      "execution_count": null,
      "metadata": {
        "colab": {
          "base_uri": "https://localhost:8080/"
        },
        "id": "ezvUhwNsMS6_",
        "outputId": "95970f33-fce2-4c33-a49c-03c3b49cd4df"
      },
      "outputs": [
        {
          "output_type": "stream",
          "name": "stdout",
          "text": [
            "http://mars.jpl.nasa.gov/msl-raw-images/proj/msl/redops/ods/surface/sol/01000/opgs/edr/fcam/FLB_486265257EDR_F0481570FHAZ00323M_.JPG\n",
            "Digite sim para ver a próxima imagem e não para parar: sim\n",
            "http://mars.jpl.nasa.gov/msl-raw-images/proj/msl/redops/ods/surface/sol/01000/opgs/edr/fcam/FRB_486265257EDR_F0481570FHAZ00323M_.JPG\n"
          ]
        }
      ],
      "source": [
        "import requests\n",
        "resposta = requests.get('https://api.nasa.gov/mars-photos/api/v1/rovers/curiosity/photos?sol=1000&api_key=mRlGOPFqz3wL8zP14UbEvvYBPFkfhesDpGfL08O8')\n",
        "imagem = resposta.json()\n",
        "for a in imagem['photos']:\n",
        "  print(a['img_src'])\n",
        "  continuar= input(\"Digite sim para ver a próxima imagem e não para parar: \")\n",
        "  if continuar=='não':\n",
        "    break"
      ]
    }
  ]
}