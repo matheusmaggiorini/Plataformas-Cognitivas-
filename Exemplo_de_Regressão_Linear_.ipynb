{
  "nbformat": 4,
  "nbformat_minor": 0,
  "metadata": {
    "colab": {
      "provenance": []
    },
    "kernelspec": {
      "name": "python3",
      "display_name": "Python 3"
    },
    "language_info": {
      "name": "python"
    }
  },
  "cells": [
    {
      "cell_type": "code",
      "execution_count": 7,
      "metadata": {
        "colab": {
          "base_uri": "https://localhost:8080/",
          "height": 0
        },
        "id": "JL1id4b2G-5x",
        "outputId": "77b8a47d-7cb1-4547-dec1-bf72da562a21"
      },
      "outputs": [
        {
          "output_type": "stream",
          "name": "stdout",
          "text": [
            "Digite o ano4\n",
            "o numero que corresponde ao seu ano é de: 1087\n"
          ]
        }
      ],
      "source": [
        "x = (int(input(\"Digite o ano\")))\n",
        "conta = 91*x+723\n",
        "print(\"o numero que corresponde ao seu ano é de:\" , conta)"
      ]
    }
  ]
}